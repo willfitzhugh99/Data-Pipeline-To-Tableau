{
 "cells": [
  {
   "cell_type": "code",
   "execution_count": 2,
   "id": "ca03a4d4",
   "metadata": {},
   "outputs": [],
   "source": [
    "from selenium import webdriver\n",
    "from selenium.webdriver.common.by import By\n",
    "import pandas as pd\n",
    "import numpy as np\n",
    "from selenium.webdriver.support.ui import WebDriverWait\n",
    "from selenium.webdriver.support import expected_conditions as EC\n",
    "\n",
    "from ipynb.fs.full.xscores_selenium_functions import scrape_xscores_completed"
   ]
  },
  {
   "cell_type": "markdown",
   "id": "4873173d",
   "metadata": {},
   "source": [
    "---\n",
    "### This script is designed to scrape xscores.com for soccer match results starting in the 2002-2003 season to the most recently completed season, the 2021-2022 season.\n",
    "---\n",
    "##### This script will scrape will result in roughly 50,000 rows of data from over 200 urls, so it will take a while.\n",
    "- This script will output a files containing snippets of the total data along the way. This is for two reasons: first, the scraping can take hours, so if the script gets interupted for whatever reason, the data that has been scraped will not be lost and the user can resume where the script left off; the second reason is that I can't gaurantee that xscores.com won't change their URL formats, and being able to easily see which seasons were successfully scraped makes debugging easier. This data will be stored in Data By League/*Country*/*Competition*.csv, where the country and competition correspond to the data being scraped.\n",
    "- If you want to do the scrape in pieces, you just have to edit the for loops to select which years and countries you wish to scrape. \n",
    "- Cup and league games must be scraped seperately as data is stored in different url formats."
   ]
  },
  {
   "cell_type": "code",
   "execution_count": 3,
   "id": "78e8d397",
   "metadata": {},
   "outputs": [
    {
     "data": {
      "text/html": [
       "<div>\n",
       "<style scoped>\n",
       "    .dataframe tbody tr th:only-of-type {\n",
       "        vertical-align: middle;\n",
       "    }\n",
       "\n",
       "    .dataframe tbody tr th {\n",
       "        vertical-align: top;\n",
       "    }\n",
       "\n",
       "    .dataframe thead th {\n",
       "        text-align: right;\n",
       "    }\n",
       "</style>\n",
       "<table border=\"1\" class=\"dataframe\">\n",
       "  <thead>\n",
       "    <tr style=\"text-align: right;\">\n",
       "      <th></th>\n",
       "      <th>country</th>\n",
       "      <th>league_name</th>\n",
       "    </tr>\n",
       "  </thead>\n",
       "  <tbody>\n",
       "    <tr>\n",
       "      <th>0</th>\n",
       "      <td>spain</td>\n",
       "      <td>primera-division</td>\n",
       "    </tr>\n",
       "    <tr>\n",
       "      <th>1</th>\n",
       "      <td>england</td>\n",
       "      <td>premier-league</td>\n",
       "    </tr>\n",
       "    <tr>\n",
       "      <th>2</th>\n",
       "      <td>germany</td>\n",
       "      <td>bundesliga</td>\n",
       "    </tr>\n",
       "    <tr>\n",
       "      <th>3</th>\n",
       "      <td>france</td>\n",
       "      <td>ligue-1</td>\n",
       "    </tr>\n",
       "    <tr>\n",
       "      <th>4</th>\n",
       "      <td>italy</td>\n",
       "      <td>serie-a</td>\n",
       "    </tr>\n",
       "  </tbody>\n",
       "</table>\n",
       "</div>"
      ],
      "text/plain": [
       "   country       league_name\n",
       "0    spain  primera-division\n",
       "1  england    premier-league\n",
       "2  germany        bundesliga\n",
       "3   france           ligue-1\n",
       "4    italy           serie-a"
      ]
     },
     "execution_count": 3,
     "metadata": {},
     "output_type": "execute_result"
    }
   ],
   "source": [
    "#Leagues of interest:\n",
    "league_names = pd.DataFrame({\n",
    "    'country':['spain', 'england','germany','france','italy'],\n",
    "    'league_name':['primera-division','premier-league','bundesliga','ligue-1','serie-a']\n",
    "})\n",
    "league_names"
   ]
  },
  {
   "cell_type": "code",
   "execution_count": 4,
   "id": "74318972",
   "metadata": {},
   "outputs": [
    {
     "data": {
      "text/html": [
       "<div>\n",
       "<style scoped>\n",
       "    .dataframe tbody tr th:only-of-type {\n",
       "        vertical-align: middle;\n",
       "    }\n",
       "\n",
       "    .dataframe tbody tr th {\n",
       "        vertical-align: top;\n",
       "    }\n",
       "\n",
       "    .dataframe thead th {\n",
       "        text-align: right;\n",
       "    }\n",
       "</style>\n",
       "<table border=\"1\" class=\"dataframe\">\n",
       "  <thead>\n",
       "    <tr style=\"text-align: right;\">\n",
       "      <th></th>\n",
       "      <th>country</th>\n",
       "      <th>league_name</th>\n",
       "      <th>rounds</th>\n",
       "    </tr>\n",
       "  </thead>\n",
       "  <tbody>\n",
       "    <tr>\n",
       "      <th>0</th>\n",
       "      <td>europe-uefa</td>\n",
       "      <td>uefa-champions-league</td>\n",
       "      <td>[first-group-stage, second-group-stage, group-...</td>\n",
       "    </tr>\n",
       "    <tr>\n",
       "      <th>1</th>\n",
       "      <td>europe-uefa</td>\n",
       "      <td>uefa-europa-league</td>\n",
       "      <td>[group-stage, round-32, round-16, quarter-fina...</td>\n",
       "    </tr>\n",
       "    <tr>\n",
       "      <th>2</th>\n",
       "      <td>spain</td>\n",
       "      <td>fa-cup</td>\n",
       "      <td>[first-round, second-round, third-round, fourt...</td>\n",
       "    </tr>\n",
       "    <tr>\n",
       "      <th>3</th>\n",
       "      <td>england</td>\n",
       "      <td>fa-cup</td>\n",
       "      <td>[first-round, second-round, third-round, fourt...</td>\n",
       "    </tr>\n",
       "    <tr>\n",
       "      <th>4</th>\n",
       "      <td>germany</td>\n",
       "      <td>fa-cup</td>\n",
       "      <td>[first-round, second-round, third-round, round...</td>\n",
       "    </tr>\n",
       "    <tr>\n",
       "      <th>5</th>\n",
       "      <td>france</td>\n",
       "      <td>fa-cup</td>\n",
       "      <td>[eighth-round, round-64, round-32, round-16, q...</td>\n",
       "    </tr>\n",
       "    <tr>\n",
       "      <th>6</th>\n",
       "      <td>italy</td>\n",
       "      <td>fa-cup</td>\n",
       "      <td>[first-round, second-round, third-round, fourt...</td>\n",
       "    </tr>\n",
       "  </tbody>\n",
       "</table>\n",
       "</div>"
      ],
      "text/plain": [
       "       country            league_name  \\\n",
       "0  europe-uefa  uefa-champions-league   \n",
       "1  europe-uefa     uefa-europa-league   \n",
       "2        spain                 fa-cup   \n",
       "3      england                 fa-cup   \n",
       "4      germany                 fa-cup   \n",
       "5       france                 fa-cup   \n",
       "6        italy                 fa-cup   \n",
       "\n",
       "                                              rounds  \n",
       "0  [first-group-stage, second-group-stage, group-...  \n",
       "1  [group-stage, round-32, round-16, quarter-fina...  \n",
       "2  [first-round, second-round, third-round, fourt...  \n",
       "3  [first-round, second-round, third-round, fourt...  \n",
       "4  [first-round, second-round, third-round, round...  \n",
       "5  [eighth-round, round-64, round-32, round-16, q...  \n",
       "6  [first-round, second-round, third-round, fourt...  "
      ]
     },
     "execution_count": 4,
     "metadata": {},
     "output_type": "execute_result"
    }
   ],
   "source": [
    "#Cups of interest:\n",
    "cup_names = pd.DataFrame({\n",
    "    'country':['europe-uefa','europe-uefa','spain','england','germany','france', 'italy'],\n",
    "    'league_name':['uefa-champions-league','uefa-europa-league','fa-cup','fa-cup','fa-cup','fa-cup','fa-cup'],\n",
    "    'rounds': [\n",
    "    ['first-group-stage','second-group-stage','group-stage','round-16','quarter-finals','semi-finals','final'],\n",
    "    ['group-stage','round-32','round-16','quarter-finals','semi-finals','final'],\n",
    "    ['first-round','second-round','third-round','fourth-round','round-32','round-16','quarter-finals','semi-finals','final'],\n",
    "    ['first-round','second-round','third-round','fourth-round','fifth-round','quarter-finals','semi-finals','final'],\n",
    "    ['first-round','second-round','third-round','round-16','quarter-finals','semi-finals','final'],\n",
    "    ['eighth-round','round-64','round-32','round-16','quarter-finals','semi-finals','final'],\n",
    "    ['first-round','second-round','third-round','fourth-round','round-16','quarter-finals','semi-finals','final']\n",
    "    ]\n",
    "})\n",
    "cup_names\n",
    "#note: xscores labels each country's major domestic cup as fa-cup"
   ]
  },
  {
   "cell_type": "code",
   "execution_count": null,
   "id": "dee5c088",
   "metadata": {},
   "outputs": [],
   "source": [
    "#path to Date-Pipeline-To-Tableau folder, to be used throughout script\n",
    "folder_loc = '/Users/willfitzhugh/Desktop/Coding/Data-Pipeline-To-Tableau/'"
   ]
  },
  {
   "cell_type": "markdown",
   "id": "9f8a116d",
   "metadata": {},
   "source": [
    "## Scraping Leagues"
   ]
  },
  {
   "cell_type": "code",
   "execution_count": 18,
   "id": "a3f5dd3c",
   "metadata": {},
   "outputs": [
    {
     "name": "stdout",
     "output_type": "stream",
     "text": [
      "https://www.xscores.com/soccer/england/premier-league/results/2021-2022\n"
     ]
    }
   ],
   "source": [
    "#example of url to be scraped\n",
    "\n",
    "i = 1\n",
    "country = league_names.iloc[i,0]\n",
    "league_name = league_names.iloc[i,1]\n",
    "year = 2021\n",
    "print('https://www.xscores.com/soccer/' + country + '/' + league_name + '/results/' + str(year) + '-' + str(year+1))"
   ]
  },
  {
   "cell_type": "code",
   "execution_count": 5,
   "id": "0e0da0aa",
   "metadata": {},
   "outputs": [],
   "source": [
    "#scrape and export leagues\n",
    "\n",
    "years_list = range(2002,2022)\n",
    "\n",
    "for i in range(len(league_names)):     #cycle through each country, edit this loop to do the scrape in peices\n",
    "    \n",
    "    for year in years_list:            #cycle through each year\n",
    "        \n",
    "        df = scrape_xscores_completed(year, league_names.iloc[i,0], league_names.iloc[i,1])\n",
    "        df['season'] = year\n",
    "    \n",
    "        label = 'Data/Data By Season/'+league_names.iloc[i,0] + '/' + league_names.iloc[i,1] + '_games_' + str(year) + '.csv'    \n",
    "        df.to_csv( folder_loc+label, index=False)"
   ]
  },
  {
   "cell_type": "markdown",
   "id": "a60ec937",
   "metadata": {},
   "source": [
    "- Scraping 2020 & 2021 German league results separately because their URLs are formatted differently."
   ]
  },
  {
   "cell_type": "code",
   "execution_count": 6,
   "id": "4ab02526",
   "metadata": {
    "scrolled": true
   },
   "outputs": [],
   "source": [
    "germ20 = scrape_xscores_completed(2020, 'germany','bundesliga/1.-bundesliga')\n",
    "germ20['season'] = 2020\n",
    "germ20.to_csv(folder_loc+'Data/Data By Season/germany/bundesliga_games_2020.csv', index=False)\n",
    "\n",
    "germ21 = scrape_xscores_completed(2021, 'germany','bundesliga/1.-bundesliga')\n",
    "germ21['season'] = 2021\n",
    "germ21.to_csv(folder_loc+'Data/Data By Season/germany/bundesliga_games_2021.csv', index=False)"
   ]
  },
  {
   "cell_type": "markdown",
   "id": "ac549386",
   "metadata": {},
   "source": [
    "---"
   ]
  },
  {
   "cell_type": "markdown",
   "id": "a66148af",
   "metadata": {},
   "source": [
    "## Scraping Cups"
   ]
  },
  {
   "cell_type": "code",
   "execution_count": 36,
   "id": "8af4d457",
   "metadata": {
    "scrolled": true
   },
   "outputs": [
    {
     "name": "stdout",
     "output_type": "stream",
     "text": [
      "https://www.xscores.com/soccer/italy/fa-cup/final/results/2002-2003\n"
     ]
    }
   ],
   "source": [
    "#example of url to be scraped\n",
    "\n",
    "i = 6\n",
    "country = cup_names.iloc[i,0]\n",
    "cup_name = cup_names.iloc[i,1] + '/' + cup_names.iloc[i,:]['rounds'][-1]\n",
    "year = 2002\n",
    "print('https://www.xscores.com/soccer/' + country + '/' + cup_name + '/results/' + str(year) + '-' + str(year+1))"
   ]
  },
  {
   "cell_type": "code",
   "execution_count": 24,
   "id": "7ae222b1",
   "metadata": {},
   "outputs": [],
   "source": [
    "#scrape and export cups\n",
    "\n",
    "years_list = range(2002,2021)\n",
    "\n",
    "for i in range(len(cup_names)):     #cycle through each country, edit this loop to do scrape in pieces\n",
    "\n",
    "    for year in years_list:         #cycle through each year\n",
    "        \n",
    "        data = pd.DataFrame(columns=['Round','Date', 'Time', 'Home_Team', 'Home_Score', 'Away_Score', 'Away_Team',\n",
    "                                 'Home_Score_AET', 'Away_Score_AET', 'Home_Penalties', 'Away_Penalties',\n",
    "                                'Home_Points', 'Away_Points'])\n",
    "    \n",
    "        for stage in cup_names.iloc[i,:]['rounds']:   #cycle through each stage of the cup\n",
    "            cup_stage = cup_names.iloc[i,1] + '/' + stage\n",
    "\n",
    "            df = scrape_xscores_completed(year, cup_names.iloc[i,0], cup_stage)\n",
    "            df['Round'] = stage\n",
    "            data = pd.concat([data,df])\n",
    "    \n",
    "        data['season'] = year\n",
    "    \n",
    "        label = 'Data/Data By Season/'+cup_names.iloc[i,0] + '/' + cup_names.iloc[i,1] + '_games_' + str(year) + '.csv'\n",
    "    \n",
    "        data.to_csv( folder_loc+label, index=False)\n"
   ]
  },
  {
   "cell_type": "markdown",
   "id": "349b54f5",
   "metadata": {},
   "source": [
    "- Scraping 2021-2022 cup seasons seperately because the xscores URLs are formatted differently than other years."
   ]
  },
  {
   "cell_type": "code",
   "execution_count": 25,
   "id": "4ee93087",
   "metadata": {},
   "outputs": [],
   "source": [
    "#european cups\n",
    "\n",
    "for i in range(0,2):\n",
    "    \n",
    "    data = pd.DataFrame(columns=['Round', 'Date', 'Time', 'Home_Team', 'Home_Score', 'Away_Score', 'Away_Team',\n",
    "                                 'Home_Score_AET', 'Away_Score_AET', 'Home_Penalties', 'Away_Penalties',\n",
    "                                'Home_Points', 'Away_Points'])\n",
    "    \n",
    "    for stage in ['group-stage','final-stage']:\n",
    "        \n",
    "        df = scrape_xscores_completed(2021, cup_names.iloc[i,0], (cup_names.iloc[i,1]+'/'+stage) )\n",
    "        data = pd.concat([df,data])\n",
    "    \n",
    "    data['season'] = 2021\n",
    "    \n",
    "    label = 'Data/Data By Season/'+cup_names.iloc[i,0] + '/' + cup_names.iloc[i,1] + '_games_2021' + '.csv'\n",
    "    \n",
    "    data.to_csv( folder_loc+label, index=False)"
   ]
  },
  {
   "cell_type": "code",
   "execution_count": null,
   "id": "1f7f2b61",
   "metadata": {},
   "outputs": [],
   "source": [
    "#domestic cups\n",
    "\n",
    "for i in range(2,7):\n",
    "    cup21 = scrape_xscores_completed(2021, cup_names.iloc[i,0], cup_names.iloc[i,1])\n",
    "    cup21['season'] = 2021\n",
    "    label = 'Data/Data By Season/' + cup_names.iloc[i,0] + '/fa-cup_games_2021.csv'\n",
    "    cup21.to_csv( folder_loc+label , index = False)"
   ]
  },
  {
   "cell_type": "markdown",
   "id": "348b6707",
   "metadata": {},
   "source": [
    "---\n",
    "## Compile data for each year and competition into a single file."
   ]
  },
  {
   "cell_type": "code",
   "execution_count": 5,
   "id": "5e46ba8e",
   "metadata": {
    "scrolled": true
   },
   "outputs": [
    {
     "data": {
      "text/html": [
       "<div>\n",
       "<style scoped>\n",
       "    .dataframe tbody tr th:only-of-type {\n",
       "        vertical-align: middle;\n",
       "    }\n",
       "\n",
       "    .dataframe tbody tr th {\n",
       "        vertical-align: top;\n",
       "    }\n",
       "\n",
       "    .dataframe thead th {\n",
       "        text-align: right;\n",
       "    }\n",
       "</style>\n",
       "<table border=\"1\" class=\"dataframe\">\n",
       "  <thead>\n",
       "    <tr style=\"text-align: right;\">\n",
       "      <th></th>\n",
       "      <th>country</th>\n",
       "      <th>league_name</th>\n",
       "    </tr>\n",
       "  </thead>\n",
       "  <tbody>\n",
       "    <tr>\n",
       "      <th>0</th>\n",
       "      <td>spain</td>\n",
       "      <td>primera-division</td>\n",
       "    </tr>\n",
       "    <tr>\n",
       "      <th>1</th>\n",
       "      <td>england</td>\n",
       "      <td>premier-league</td>\n",
       "    </tr>\n",
       "    <tr>\n",
       "      <th>2</th>\n",
       "      <td>germany</td>\n",
       "      <td>bundesliga</td>\n",
       "    </tr>\n",
       "    <tr>\n",
       "      <th>3</th>\n",
       "      <td>france</td>\n",
       "      <td>ligue-1</td>\n",
       "    </tr>\n",
       "    <tr>\n",
       "      <th>4</th>\n",
       "      <td>italy</td>\n",
       "      <td>serie-a</td>\n",
       "    </tr>\n",
       "    <tr>\n",
       "      <th>0</th>\n",
       "      <td>europe-uefa</td>\n",
       "      <td>uefa-champions-league</td>\n",
       "    </tr>\n",
       "    <tr>\n",
       "      <th>1</th>\n",
       "      <td>europe-uefa</td>\n",
       "      <td>uefa-europa-league</td>\n",
       "    </tr>\n",
       "    <tr>\n",
       "      <th>2</th>\n",
       "      <td>spain</td>\n",
       "      <td>fa-cup</td>\n",
       "    </tr>\n",
       "    <tr>\n",
       "      <th>3</th>\n",
       "      <td>england</td>\n",
       "      <td>fa-cup</td>\n",
       "    </tr>\n",
       "    <tr>\n",
       "      <th>4</th>\n",
       "      <td>germany</td>\n",
       "      <td>fa-cup</td>\n",
       "    </tr>\n",
       "    <tr>\n",
       "      <th>5</th>\n",
       "      <td>france</td>\n",
       "      <td>fa-cup</td>\n",
       "    </tr>\n",
       "    <tr>\n",
       "      <th>6</th>\n",
       "      <td>italy</td>\n",
       "      <td>fa-cup</td>\n",
       "    </tr>\n",
       "  </tbody>\n",
       "</table>\n",
       "</div>"
      ],
      "text/plain": [
       "       country            league_name\n",
       "0        spain       primera-division\n",
       "1      england         premier-league\n",
       "2      germany             bundesliga\n",
       "3       france                ligue-1\n",
       "4        italy                serie-a\n",
       "0  europe-uefa  uefa-champions-league\n",
       "1  europe-uefa     uefa-europa-league\n",
       "2        spain                 fa-cup\n",
       "3      england                 fa-cup\n",
       "4      germany                 fa-cup\n",
       "5       france                 fa-cup\n",
       "6        italy                 fa-cup"
      ]
     },
     "execution_count": 5,
     "metadata": {},
     "output_type": "execute_result"
    }
   ],
   "source": [
    "#combine league and cup labels\n",
    "data_labels = pd.concat([league_names, cup_names[['country','league_name']]])\n",
    "data_labels"
   ]
  },
  {
   "cell_type": "code",
   "execution_count": 6,
   "id": "5a3bc257",
   "metadata": {},
   "outputs": [],
   "source": [
    "data = pd.DataFrame(columns=['Round', 'Date', 'Time', 'Home_Team', 'Home_Score', 'Away_Score', 'Away_Team',\n",
    "                                'Home_Score_AET', 'Away_Score_AET', 'Home_Penalties', 'Away_Penalties',\n",
    "                                'Home_Points', 'Away_Points','season'])\n",
    "\n",
    "for i in range(len(data_labels)):\n",
    "    \n",
    "    for year in range(2002, 2022):\n",
    "        \n",
    "        try: #try clause because some competitions don't have data for much earlier seasons (like the europa league prior to 2009)\n",
    "            label = 'Data/Data By Season/'+data_labels.iloc[i,0]+'/'+data_labels.iloc[i,1]+'_games_'+str(year)+'.csv'\n",
    "                \n",
    "            df_to_add = pd.read_csv(folder_loc+label)\n",
    "            \n",
    "            df_to_add['Country'] = data_labels.iloc[i,0]\n",
    "            df_to_add['Competition'] = data_labels.iloc[i,1]\n",
    "            \n",
    "            data = pd.concat([data,df_to_add])\n",
    "            \n",
    "        except:\n",
    "            pass\n",
    "\n",
    "\n",
    "data.to_csv( folder_loc+'Data/Past_20years_Data.csv', index = False)"
   ]
  }
 ],
 "metadata": {
  "kernelspec": {
   "display_name": "Python 3 (ipykernel)",
   "language": "python",
   "name": "python3"
  },
  "language_info": {
   "codemirror_mode": {
    "name": "ipython",
    "version": 3
   },
   "file_extension": ".py",
   "mimetype": "text/x-python",
   "name": "python",
   "nbconvert_exporter": "python",
   "pygments_lexer": "ipython3",
   "version": "3.9.2"
  }
 },
 "nbformat": 4,
 "nbformat_minor": 5
}
