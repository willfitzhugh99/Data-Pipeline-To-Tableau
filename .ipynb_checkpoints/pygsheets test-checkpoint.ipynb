{
 "cells": [
  {
   "cell_type": "markdown",
   "id": "6e062c3e",
   "metadata": {},
   "source": [
    "sources:\n",
    "- https://pygsheets.readthedocs.io/en/stable/reference.html\n",
    "- https://ivizri.com/posts/2020/04/automating-a-tableau-public-dashboard/"
   ]
  },
  {
   "cell_type": "code",
   "execution_count": 9,
   "id": "bab2d9c2",
   "metadata": {},
   "outputs": [],
   "source": [
    "import pandas as pd\n",
    "import pygsheets\n",
    "\n",
    "# google sheets authentication\n",
    "creds = 'pygsheets_api_authorization_file.json'\n",
    "api = pygsheets.authorize(service_file=creds)\n",
    "\n",
    "# open the sheet by name\n",
    "sheet = api.open('Soccer Data').sheet1\n",
    "\n",
    "#read data\n",
    "data = pd.read_csv('Full_Dataset.csv')\n",
    "\n",
    "#set dataframe\n",
    "sheet.set_dataframe(data, (1,1), fit=True)"
   ]
  },
  {
   "cell_type": "markdown",
   "id": "37d9ff0a",
   "metadata": {},
   "source": [
    "- So far, I've been able to give myself access to a google sheet file created on my will.wjf@gmail.com account through this Jupyter notebook file. Now I just have to figure out how to properly update that file, so that I can set it to update the sheets file with the most recent version of Full_Dataset.csv. Then I just need to chgange the data source of the Tableau public dashboard to the google sheet, and set it to automatically update daily. Then I need to figure out how to run the Update_Current_Season.ipynb file on the same schedule.\n",
    "\n",
    "- Access to the sheet is enabled through the google cloud project on will.wjf@gmail.com. This project has access to the Google Sheets API and Google Drive API, which allow control over those services remotely. The Google Cloud Project somehow creates a new user email (which can be found on the cloud project page), which acts as a remote user of Drive and Sheets. This email must be added as a contributor to the sheet to enable ability to access and edit."
   ]
  },
  {
   "cell_type": "markdown",
   "id": "1b3b0507",
   "metadata": {},
   "source": [
    "- update, The UpdateCurrentSeason.ipynb script will now update the data in google sheets. The Tableau public workbook is connected to this google sheets and is (I think) set up to automatically update changed to the google sheet. Now I just have to figure out how to automatically run the UpdateCurrentSeason.ipynb script once a day. Then I need to clean up everything, and probably streamline the whole process (maybe remoce the data by league and season folders and just go the the Full_Dataset.csv version more directly, and also add more documentation), then post the update project to github.\n"
   ]
  },
  {
   "cell_type": "markdown",
   "id": "95a78442",
   "metadata": {},
   "source": [
    "- 2/1/23 update, I've figured out how to automatically run a python script using cron and crontab. The problem is the UpdateCurrentSeasonData script references local files and the funcitons it calls might refer to local files too. So I need to go through and make sure everything in the script is referenced with respect to the home directory.\n",
    "- new update, its done. i do gotta fix up all the scraping functions and files n shit tho."
   ]
  }
 ],
 "metadata": {
  "kernelspec": {
   "display_name": "Python 3 (ipykernel)",
   "language": "python",
   "name": "python3"
  },
  "language_info": {
   "codemirror_mode": {
    "name": "ipython",
    "version": 3
   },
   "file_extension": ".py",
   "mimetype": "text/x-python",
   "name": "python",
   "nbconvert_exporter": "python",
   "pygments_lexer": "ipython3",
   "version": "3.9.2"
  }
 },
 "nbformat": 4,
 "nbformat_minor": 5
}
