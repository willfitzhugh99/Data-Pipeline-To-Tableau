{
 "cells": [
  {
   "cell_type": "code",
   "execution_count": 19,
   "id": "f899baec",
   "metadata": {},
   "outputs": [],
   "source": [
    "from selenium import webdriver\n",
    "import requests\n",
    "from bs4 import BeautifulSoup\n",
    "import pandas as pd\n",
    "import numpy as np\n",
    "from selenium.webdriver.common.by import By\n",
    "from selenium.webdriver.support.ui import WebDriverWait\n",
    "from selenium.webdriver.support import expected_conditions as EC"
   ]
  },
  {
   "cell_type": "code",
   "execution_count": 20,
   "id": "ed37103b",
   "metadata": {
    "scrolled": true
   },
   "outputs": [
    {
     "data": {
      "text/html": [
       "<div>\n",
       "<style scoped>\n",
       "    .dataframe tbody tr th:only-of-type {\n",
       "        vertical-align: middle;\n",
       "    }\n",
       "\n",
       "    .dataframe tbody tr th {\n",
       "        vertical-align: top;\n",
       "    }\n",
       "\n",
       "    .dataframe thead th {\n",
       "        text-align: right;\n",
       "    }\n",
       "</style>\n",
       "<table border=\"1\" class=\"dataframe\">\n",
       "  <thead>\n",
       "    <tr style=\"text-align: right;\">\n",
       "      <th></th>\n",
       "      <th>country</th>\n",
       "      <th>league_name</th>\n",
       "    </tr>\n",
       "  </thead>\n",
       "  <tbody>\n",
       "    <tr>\n",
       "      <th>0</th>\n",
       "      <td>spain</td>\n",
       "      <td>primera-division</td>\n",
       "    </tr>\n",
       "    <tr>\n",
       "      <th>1</th>\n",
       "      <td>england</td>\n",
       "      <td>premier-league</td>\n",
       "    </tr>\n",
       "    <tr>\n",
       "      <th>2</th>\n",
       "      <td>germany</td>\n",
       "      <td>bundesliga</td>\n",
       "    </tr>\n",
       "    <tr>\n",
       "      <th>3</th>\n",
       "      <td>france</td>\n",
       "      <td>ligue-1</td>\n",
       "    </tr>\n",
       "    <tr>\n",
       "      <th>4</th>\n",
       "      <td>italy</td>\n",
       "      <td>serie-a</td>\n",
       "    </tr>\n",
       "  </tbody>\n",
       "</table>\n",
       "</div>"
      ],
      "text/plain": [
       "   country       league_name\n",
       "0    spain  primera-division\n",
       "1  england    premier-league\n",
       "2  germany        bundesliga\n",
       "3   france           ligue-1\n",
       "4    italy           serie-a"
      ]
     },
     "execution_count": 20,
     "metadata": {},
     "output_type": "execute_result"
    }
   ],
   "source": [
    "league_names = pd.DataFrame({\n",
    "    'country':['spain', 'england','germany','france','italy'],\n",
    "    'league_name':['primera-division','premier-league','bundesliga','ligue-1','serie-a']\n",
    "})\n",
    "league_names"
   ]
  },
  {
   "cell_type": "code",
   "execution_count": 117,
   "id": "bc7dbef0",
   "metadata": {},
   "outputs": [
    {
     "data": {
      "text/html": [
       "<div>\n",
       "<style scoped>\n",
       "    .dataframe tbody tr th:only-of-type {\n",
       "        vertical-align: middle;\n",
       "    }\n",
       "\n",
       "    .dataframe tbody tr th {\n",
       "        vertical-align: top;\n",
       "    }\n",
       "\n",
       "    .dataframe thead th {\n",
       "        text-align: right;\n",
       "    }\n",
       "</style>\n",
       "<table border=\"1\" class=\"dataframe\">\n",
       "  <thead>\n",
       "    <tr style=\"text-align: right;\">\n",
       "      <th></th>\n",
       "      <th>country</th>\n",
       "      <th>league_name</th>\n",
       "      <th>rounds</th>\n",
       "    </tr>\n",
       "  </thead>\n",
       "  <tbody>\n",
       "    <tr>\n",
       "      <th>0</th>\n",
       "      <td>europe-uefa</td>\n",
       "      <td>uefa-champions-league</td>\n",
       "      <td>[first-group-stage, second-group-stage, group-...</td>\n",
       "    </tr>\n",
       "    <tr>\n",
       "      <th>1</th>\n",
       "      <td>europe-uefa</td>\n",
       "      <td>uefa-europa-league</td>\n",
       "      <td>[group-stage, round-32, round-16, quarter-fina...</td>\n",
       "    </tr>\n",
       "    <tr>\n",
       "      <th>2</th>\n",
       "      <td>spain</td>\n",
       "      <td>fa-cup</td>\n",
       "      <td>[first-round, second-round, third-round, fourt...</td>\n",
       "    </tr>\n",
       "    <tr>\n",
       "      <th>3</th>\n",
       "      <td>england</td>\n",
       "      <td>fa-cup</td>\n",
       "      <td>[first-round, second-round, third-round, fourt...</td>\n",
       "    </tr>\n",
       "    <tr>\n",
       "      <th>4</th>\n",
       "      <td>germany</td>\n",
       "      <td>fa-cup</td>\n",
       "      <td>[first-round, second-round, third-round, round...</td>\n",
       "    </tr>\n",
       "    <tr>\n",
       "      <th>5</th>\n",
       "      <td>france</td>\n",
       "      <td>fa-cup</td>\n",
       "      <td>[eighth-round, round-64, round-32, round-16, q...</td>\n",
       "    </tr>\n",
       "    <tr>\n",
       "      <th>6</th>\n",
       "      <td>italy</td>\n",
       "      <td>fa-cup</td>\n",
       "      <td>[first-round, second-round, third-round, fourt...</td>\n",
       "    </tr>\n",
       "  </tbody>\n",
       "</table>\n",
       "</div>"
      ],
      "text/plain": [
       "       country            league_name  \\\n",
       "0  europe-uefa  uefa-champions-league   \n",
       "1  europe-uefa     uefa-europa-league   \n",
       "2        spain                 fa-cup   \n",
       "3      england                 fa-cup   \n",
       "4      germany                 fa-cup   \n",
       "5       france                 fa-cup   \n",
       "6        italy                 fa-cup   \n",
       "\n",
       "                                              rounds  \n",
       "0  [first-group-stage, second-group-stage, group-...  \n",
       "1  [group-stage, round-32, round-16, quarter-fina...  \n",
       "2  [first-round, second-round, third-round, fourt...  \n",
       "3  [first-round, second-round, third-round, fourt...  \n",
       "4  [first-round, second-round, third-round, round...  \n",
       "5  [eighth-round, round-64, round-32, round-16, q...  \n",
       "6  [first-round, second-round, third-round, fourt...  "
      ]
     },
     "execution_count": 117,
     "metadata": {},
     "output_type": "execute_result"
    }
   ],
   "source": [
    "cup_names = pd.DataFrame({\n",
    "    'country':['europe-uefa','europe-uefa','spain','england','germany','france', 'italy'],\n",
    "    'league_name':['uefa-champions-league','uefa-europa-league','fa-cup','fa-cup','fa-cup','fa-cup','fa-cup'],\n",
    "    'rounds': [\n",
    "    ['first-group-stage','second-group-stage','group-stage','round-16','quarter-finals','semi-finals','final'],\n",
    "    ['group-stage','round-32','round-16','quarter-finals','semi-finals','final'],\n",
    "    ['first-round','second-round','third-round','fourth-round','round-16','round-32','quarter-finals','semi-finals','final'],\n",
    "    ['first-round','second-round','third-round','fourth-round','fifth-round','quarter-finals','semi-finals','final'],\n",
    "    ['first-round','second-round','third-round','round-16','quarter-finals','semi-finals','final'],\n",
    "    ['eighth-round','round-64','round-32','round-16','quarter-finals','semi-finals','final'],\n",
    "    ['first-round','second-round','third-round','fourth-round','round-16','quarter-finals','semi-finals','final']\n",
    "    ]\n",
    "})\n",
    "cup_names"
   ]
  },
  {
   "cell_type": "code",
   "execution_count": 22,
   "id": "d80fd21a",
   "metadata": {},
   "outputs": [],
   "source": [
    "# https://www.xscores.com/soccer/ country / cup_name / round / start_year - end_year"
   ]
  },
  {
   "cell_type": "code",
   "execution_count": 120,
   "id": "66a474fe",
   "metadata": {},
   "outputs": [
    {
     "data": {
      "text/plain": [
       "'https://www.xscores.com/soccer/italy/fa-cup/final/results/2008-2009'"
      ]
     },
     "execution_count": 120,
     "metadata": {},
     "output_type": "execute_result"
    }
   ],
   "source": [
    "country = cup_names.iloc[6,:][0]\n",
    "league_name = cup_names.iloc[6,:][1] + '/' + cup_names.iloc[6,:]['rounds'][-1]\n",
    "year = 2008\n",
    "url = 'https://www.xscores.com/soccer/' + country + '/' + league_name + '/results/' + str(year) + '-' + str(year+1)\n",
    "url"
   ]
  },
  {
   "cell_type": "code",
   "execution_count": 97,
   "id": "c45f4460",
   "metadata": {},
   "outputs": [
    {
     "name": "stderr",
     "output_type": "stream",
     "text": [
      "/var/folders/7g/x8__8_vj0p7326fs6srlnckm0000gn/T/ipykernel_97796/3862016287.py:2: DeprecationWarning: executable_path has been deprecated, please pass in a Service object\n",
      "  driver = webdriver.Chrome(path)\n"
     ]
    },
    {
     "name": "stdout",
     "output_type": "stream",
     "text": [
      "\n"
     ]
    }
   ],
   "source": [
    "path = '/Users/willfitzhugh/Desktop/chromedriver'\n",
    "driver = webdriver.Chrome(path)\n",
    "driver.get(url)\n",
    "\n",
    "#wait for page to load\n",
    "try:\n",
    "    elem = WebDriverWait(driver, 10)\n",
    "finally:\n",
    "    print()"
   ]
  },
  {
   "cell_type": "code",
   "execution_count": 98,
   "id": "22362f71",
   "metadata": {
    "scrolled": true
   },
   "outputs": [
    {
     "name": "stderr",
     "output_type": "stream",
     "text": [
      "/var/folders/7g/x8__8_vj0p7326fs6srlnckm0000gn/T/ipykernel_97796/802060597.py:2: DeprecationWarning: executable_path has been deprecated, please pass in a Service object\n",
      "  driver = webdriver.Chrome(path)\n"
     ]
    }
   ],
   "source": [
    "path = '/Users/willfitzhugh/Desktop/chromedriver'\n",
    "driver = webdriver.Chrome(path)\n",
    "driver.get(url)\n",
    "\n",
    "#wait for page to load\n",
    "try:\n",
    "    elem = WebDriverWait(driver, 30).until(\n",
    "    EC.presence_of_element_located((By.CSS_SELECTOR, 'div.match_ft__home')))\n",
    "finally:\n",
    "    scores_element = driver.find_elements(By.CSS_SELECTOR, 'div.match_ft__home')"
   ]
  },
  {
   "cell_type": "code",
   "execution_count": 99,
   "id": "45cae99e",
   "metadata": {},
   "outputs": [],
   "source": [
    "scores_element = driver.find_elements(By.CSS_SELECTOR, 'div.match_ft__home')\n",
    "\n",
    "scores = []\n",
    "for i in scores_element:\n",
    "    scores.extend([i.text])\n",
    "home_scores = scores[::2]\n",
    "away_scores = scores[1::2]"
   ]
  },
  {
   "cell_type": "code",
   "execution_count": 100,
   "id": "6b919377",
   "metadata": {},
   "outputs": [],
   "source": [
    "dates_times_elements = driver.find_elements(By.XPATH, \"//div[contains(@class, 'round_date') or contains(@class, 'match_ko')]\")\n",
    "\n",
    "dates_times = []\n",
    "for i in dates_times_elements[1:]:\n",
    "    dates_times.extend([i.text])"
   ]
  },
  {
   "cell_type": "code",
   "execution_count": 101,
   "id": "31547daf",
   "metadata": {},
   "outputs": [
    {
     "data": {
      "text/plain": [
       "['21/01/2009', '19:00', '21:45', '22/01/2009', '22:00', '04/02/2009', '21:45']"
      ]
     },
     "execution_count": 101,
     "metadata": {},
     "output_type": "execute_result"
    }
   ],
   "source": [
    "dates_times"
   ]
  },
  {
   "cell_type": "code",
   "execution_count": 102,
   "id": "58f94218",
   "metadata": {},
   "outputs": [],
   "source": [
    "date_elements = driver.find_elements(By.CSS_SELECTOR, 'div.round_date')\n",
    "dates = []\n",
    "for i in date_elements:\n",
    "    dates.extend([i.text])"
   ]
  },
  {
   "cell_type": "code",
   "execution_count": 103,
   "id": "7137aaee",
   "metadata": {
    "scrolled": true
   },
   "outputs": [
    {
     "data": {
      "text/plain": [
       "['21/01/2009', '22/01/2009', '04/02/2009']"
      ]
     },
     "execution_count": 103,
     "metadata": {},
     "output_type": "execute_result"
    }
   ],
   "source": [
    "dates"
   ]
  },
  {
   "cell_type": "code",
   "execution_count": 104,
   "id": "14ed453d",
   "metadata": {},
   "outputs": [
    {
     "data": {
      "text/plain": [
       "['19:00', '21:45', '22:00', '21:45']"
      ]
     },
     "execution_count": 104,
     "metadata": {},
     "output_type": "execute_result"
    }
   ],
   "source": [
    "time_elements = driver.find_elements(By.CSS_SELECTOR, 'div.match_ko')\n",
    "times = []\n",
    "for i in time_elements[1:]:\n",
    "    times.extend([i.text])\n",
    "times"
   ]
  },
  {
   "cell_type": "code",
   "execution_count": 105,
   "id": "a1f39c57",
   "metadata": {},
   "outputs": [
    {
     "data": {
      "text/plain": [
       "['UDINESE', 'INTER', 'LAZIO', 'JUVENTUS']"
      ]
     },
     "execution_count": 105,
     "metadata": {},
     "output_type": "execute_result"
    }
   ],
   "source": [
    "home_team_elements = driver.find_elements(By.CSS_SELECTOR, 'div.match_home_txt')\n",
    "home_teams = []\n",
    "for i in home_team_elements[1:]:\n",
    "    home_teams.extend([i.text])\n",
    "home_teams"
   ]
  },
  {
   "cell_type": "code",
   "execution_count": 106,
   "id": "aad41311",
   "metadata": {
    "scrolled": true
   },
   "outputs": [
    {
     "data": {
      "text/plain": [
       "['SAMPDORIA', 'ROMA', 'TORINO', 'NAPOLI']"
      ]
     },
     "execution_count": 106,
     "metadata": {},
     "output_type": "execute_result"
    }
   ],
   "source": [
    "away_team_elements = driver.find_elements(By.CSS_SELECTOR, 'div.match_away_txt')\n",
    "away_teams = []\n",
    "for i in away_team_elements[1:]:\n",
    "    away_teams.extend([i.text])\n",
    "away_teams"
   ]
  },
  {
   "cell_type": "code",
   "execution_count": 107,
   "id": "29da82e0",
   "metadata": {},
   "outputs": [],
   "source": [
    "penalty_elements = driver.find_elements(By.CSS_SELECTOR, 'div.match_pn__home')\n",
    "penalties = []\n",
    "for i in penalty_elements:\n",
    "    penalties.extend([i.text])\n",
    "home_pens = penalties[::2]\n",
    "away_pens = penalties[1::2]"
   ]
  },
  {
   "cell_type": "code",
   "execution_count": 108,
   "id": "64cd4d0c",
   "metadata": {},
   "outputs": [
    {
     "name": "stdout",
     "output_type": "stream",
     "text": [
      "['1', '', '', '0'] ['1', '', '', '0']\n"
     ]
    }
   ],
   "source": [
    "#extra time score (if any)\n",
    "et_elements = driver.find_elements(By.CSS_SELECTOR, 'div.match_et__home')\n",
    "extra_time = []\n",
    "for i in et_elements:\n",
    "    extra_time.extend([i.text])\n",
    "home_et = extra_time[::2]\n",
    "away_et = extra_time[1::2]\n",
    "print(home_et, away_et)"
   ]
  },
  {
   "cell_type": "code",
   "execution_count": 109,
   "id": "a6f955af",
   "metadata": {},
   "outputs": [
    {
     "data": {
      "text/plain": [
       "4"
      ]
     },
     "execution_count": 109,
     "metadata": {},
     "output_type": "execute_result"
    }
   ],
   "source": [
    "len(dates_times) - len(dates)"
   ]
  },
  {
   "cell_type": "code",
   "execution_count": 110,
   "id": "43b1487a",
   "metadata": {
    "scrolled": true
   },
   "outputs": [
    {
     "data": {
      "text/plain": [
       "[0, 3, 5]"
      ]
     },
     "execution_count": 110,
     "metadata": {},
     "output_type": "execute_result"
    }
   ],
   "source": [
    "#get date indices\n",
    "date_indices = []\n",
    "for i in range(len(dates_times)):\n",
    "    if dates_times[i] in dates:\n",
    "        date_indices.append(i)\n",
    "date_indices"
   ]
  },
  {
   "cell_type": "code",
   "execution_count": 111,
   "id": "70de2be4",
   "metadata": {},
   "outputs": [],
   "source": [
    "#prepare dates column\n",
    "date_column = []\n",
    "\n",
    "for i in range(len(date_indices)-1):\n",
    "    date_to_add = dates_times[date_indices[i]]\n",
    "    \n",
    "    index_diff = date_indices[i+1] - date_indices[i]\n",
    "    \n",
    "    num_games = (index_diff - 1)\n",
    "    \n",
    "    date_column.extend( num_games * [date_to_add] )\n",
    "\n",
    "date_column.extend( (len(dates_times) - date_indices[-1] - 1) * [dates_times[date_indices[-1]]] )"
   ]
  },
  {
   "cell_type": "code",
   "execution_count": 112,
   "id": "222c9f63",
   "metadata": {
    "scrolled": true
   },
   "outputs": [],
   "source": [
    "df = pd.DataFrame({\n",
    "    'Date':date_column,\n",
    "    'Time':times,\n",
    "    'Home_Team':home_teams,\n",
    "    'Home_Score':home_scores,\n",
    "    'Away_Score':away_scores,\n",
    "    'Away_Team':away_teams,\n",
    "    'Home_Score_AET':home_et,\n",
    "    'Away_Score_AET':away_et,\n",
    "    'Home_Penalties':home_pens,\n",
    "    'Away_Penalties':away_pens\n",
    "})"
   ]
  },
  {
   "cell_type": "code",
   "execution_count": 114,
   "id": "bcbeedfa",
   "metadata": {},
   "outputs": [
    {
     "data": {
      "text/html": [
       "<div>\n",
       "<style scoped>\n",
       "    .dataframe tbody tr th:only-of-type {\n",
       "        vertical-align: middle;\n",
       "    }\n",
       "\n",
       "    .dataframe tbody tr th {\n",
       "        vertical-align: top;\n",
       "    }\n",
       "\n",
       "    .dataframe thead th {\n",
       "        text-align: right;\n",
       "    }\n",
       "</style>\n",
       "<table border=\"1\" class=\"dataframe\">\n",
       "  <thead>\n",
       "    <tr style=\"text-align: right;\">\n",
       "      <th></th>\n",
       "      <th>Date</th>\n",
       "      <th>Time</th>\n",
       "      <th>Home_Team</th>\n",
       "      <th>Home_Score</th>\n",
       "      <th>Away_Score</th>\n",
       "      <th>Away_Team</th>\n",
       "      <th>Home_Penalties</th>\n",
       "      <th>Away_Penalties</th>\n",
       "      <th>Home_Score_AET</th>\n",
       "      <th>Away_Score_AET</th>\n",
       "      <th>Home_Points</th>\n",
       "      <th>Away_Points</th>\n",
       "    </tr>\n",
       "  </thead>\n",
       "  <tbody>\n",
       "    <tr>\n",
       "      <th>0</th>\n",
       "      <td>21/01/2009</td>\n",
       "      <td>19:00</td>\n",
       "      <td>UDINESE</td>\n",
       "      <td>1</td>\n",
       "      <td>1</td>\n",
       "      <td>SAMPDORIA</td>\n",
       "      <td>1</td>\n",
       "      <td>4</td>\n",
       "      <td>1</td>\n",
       "      <td>1</td>\n",
       "      <td>0.0</td>\n",
       "      <td>3.0</td>\n",
       "    </tr>\n",
       "    <tr>\n",
       "      <th>1</th>\n",
       "      <td>21/01/2009</td>\n",
       "      <td>21:45</td>\n",
       "      <td>INTER</td>\n",
       "      <td>2</td>\n",
       "      <td>1</td>\n",
       "      <td>ROMA</td>\n",
       "      <td></td>\n",
       "      <td></td>\n",
       "      <td></td>\n",
       "      <td></td>\n",
       "      <td>3.0</td>\n",
       "      <td>0.0</td>\n",
       "    </tr>\n",
       "    <tr>\n",
       "      <th>2</th>\n",
       "      <td>22/01/2009</td>\n",
       "      <td>22:00</td>\n",
       "      <td>LAZIO</td>\n",
       "      <td>3</td>\n",
       "      <td>1</td>\n",
       "      <td>TORINO</td>\n",
       "      <td></td>\n",
       "      <td></td>\n",
       "      <td></td>\n",
       "      <td></td>\n",
       "      <td>3.0</td>\n",
       "      <td>0.0</td>\n",
       "    </tr>\n",
       "    <tr>\n",
       "      <th>3</th>\n",
       "      <td>04/02/2009</td>\n",
       "      <td>21:45</td>\n",
       "      <td>JUVENTUS</td>\n",
       "      <td>0</td>\n",
       "      <td>0</td>\n",
       "      <td>NAPOLI</td>\n",
       "      <td>4</td>\n",
       "      <td>3</td>\n",
       "      <td>0</td>\n",
       "      <td>0</td>\n",
       "      <td>3.0</td>\n",
       "      <td>0.0</td>\n",
       "    </tr>\n",
       "  </tbody>\n",
       "</table>\n",
       "</div>"
      ],
      "text/plain": [
       "         Date   Time Home_Team Home_Score Away_Score  Away_Team  \\\n",
       "0  21/01/2009  19:00   UDINESE          1          1  SAMPDORIA   \n",
       "1  21/01/2009  21:45     INTER          2          1       ROMA   \n",
       "2  22/01/2009  22:00     LAZIO          3          1     TORINO   \n",
       "3  04/02/2009  21:45  JUVENTUS          0          0     NAPOLI   \n",
       "\n",
       "  Home_Penalties Away_Penalties Home_Score_AET Away_Score_AET  Home_Points  \\\n",
       "0              1              4              1              1          0.0   \n",
       "1                                                                      3.0   \n",
       "2                                                                      3.0   \n",
       "3              4              3              0              0          3.0   \n",
       "\n",
       "   Away_Points  \n",
       "0          3.0  \n",
       "1          0.0  \n",
       "2          0.0  \n",
       "3          0.0  "
      ]
     },
     "execution_count": 114,
     "metadata": {},
     "output_type": "execute_result"
    }
   ],
   "source": [
    "# add home/away points columns for future aggregation\n",
    "df.loc[(df['Home_Score'].str.isdigit() == True) &\n",
    "       (df['Home_Score'].str.isdigit() == True), \n",
    "       ['Home_Points','Away_Points']] = [1, 1]\n",
    "\n",
    "df.loc[ (df['Home_Score']>df['Away_Score']) | \n",
    "       (df['Home_Score_AET']>df['Away_Score_AET']) |\n",
    "      (df['Home_Penalties']>df['Away_Penalties']),\n",
    "       ('Home_Points', 'Away_Points')] = [3, 0]\n",
    "\n",
    "df.loc[ (df['Home_Score']<df['Away_Score']) | \n",
    "       (df['Home_Score_AET']<df['Away_Score_AET']) |\n",
    "      (df['Home_Penalties']<df['Away_Penalties']),\n",
    "       ('Home_Points', 'Away_Points')] = [0, 3]\n",
    "\n",
    "df"
   ]
  },
  {
   "cell_type": "code",
   "execution_count": 116,
   "id": "4647c307",
   "metadata": {},
   "outputs": [
    {
     "data": {
      "text/html": [
       "<div>\n",
       "<style scoped>\n",
       "    .dataframe tbody tr th:only-of-type {\n",
       "        vertical-align: middle;\n",
       "    }\n",
       "\n",
       "    .dataframe tbody tr th {\n",
       "        vertical-align: top;\n",
       "    }\n",
       "\n",
       "    .dataframe thead th {\n",
       "        text-align: right;\n",
       "    }\n",
       "</style>\n",
       "<table border=\"1\" class=\"dataframe\">\n",
       "  <thead>\n",
       "    <tr style=\"text-align: right;\">\n",
       "      <th></th>\n",
       "      <th>Team</th>\n",
       "      <th>Points</th>\n",
       "    </tr>\n",
       "  </thead>\n",
       "  <tbody>\n",
       "    <tr>\n",
       "      <th>0</th>\n",
       "      <td>INTER</td>\n",
       "      <td>3.0</td>\n",
       "    </tr>\n",
       "    <tr>\n",
       "      <th>1</th>\n",
       "      <td>JUVENTUS</td>\n",
       "      <td>3.0</td>\n",
       "    </tr>\n",
       "    <tr>\n",
       "      <th>2</th>\n",
       "      <td>LAZIO</td>\n",
       "      <td>3.0</td>\n",
       "    </tr>\n",
       "    <tr>\n",
       "      <th>3</th>\n",
       "      <td>UDINESE</td>\n",
       "      <td>0.0</td>\n",
       "    </tr>\n",
       "  </tbody>\n",
       "</table>\n",
       "</div>"
      ],
      "text/plain": [
       "       Team  Points\n",
       "0     INTER     3.0\n",
       "1  JUVENTUS     3.0\n",
       "2     LAZIO     3.0\n",
       "3   UDINESE     0.0"
      ]
     },
     "execution_count": 116,
     "metadata": {},
     "output_type": "execute_result"
    }
   ],
   "source": [
    "table_series = pd.merge(df.groupby('Home_Team').sum()[['Home_Points']].reset_index(),\n",
    "         df.groupby('Away_Team').sum()[['Away_Points']].reset_index(),\n",
    "         how = 'left', left_on = 'Home_Team', right_on = 'Away_Team'\n",
    "        ).drop(columns = 'Away_Team'\n",
    "              ).set_index('Home_Team'\n",
    "                        ).sum(axis=1\n",
    "                             ).sort_values(ascending=False)\n",
    "table = pd.DataFrame({\n",
    "    'Team':table_series.index,\n",
    "    'Points':table_series.values\n",
    "})\n",
    "\n",
    "table"
   ]
  },
  {
   "cell_type": "code",
   "execution_count": null,
   "id": "d1791138",
   "metadata": {},
   "outputs": [],
   "source": [
    "################ add goal difference to table for tie breaker for final position"
   ]
  }
 ],
 "metadata": {
  "kernelspec": {
   "display_name": "Python 3 (ipykernel)",
   "language": "python",
   "name": "python3"
  },
  "language_info": {
   "codemirror_mode": {
    "name": "ipython",
    "version": 3
   },
   "file_extension": ".py",
   "mimetype": "text/x-python",
   "name": "python",
   "nbconvert_exporter": "python",
   "pygments_lexer": "ipython3",
   "version": "3.9.2"
  }
 },
 "nbformat": 4,
 "nbformat_minor": 5
}
